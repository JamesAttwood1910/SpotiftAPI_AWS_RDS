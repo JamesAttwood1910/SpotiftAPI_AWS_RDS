{
  "cells": [
    {
      "cell_type": "markdown",
      "metadata": {
        "id": "view-in-github",
        "colab_type": "text"
      },
      "source": [
        "<a href=\"https://colab.research.google.com/github/JamesAttwood1910/SpotifyAPI_AWS_RDS/blob/main/Song_data_from_Spotify_API%2C_save_to_AWS_database.ipynb\" target=\"_parent\"><img src=\"https://colab.research.google.com/assets/colab-badge.svg\" alt=\"Open In Colab\"/></a>"
      ]
    },
    {
      "cell_type": "markdown",
      "source": [
        "This task is the code from two blog posts written on Medium about how to get data from the spotify API and then store it in an AWS database. You can read the posts [here](https://medium.com/@attwood1910/spotify-api-with-python-and-aws-d9b3d0f78e8b)."
      ],
      "metadata": {
        "id": "A02rgZ0kupgL"
      }
    },
    {
      "cell_type": "code",
      "source": [
        "# Packages for spotify API"
      ],
      "metadata": {
        "id": "3mm9Jd0QuvKm"
      },
      "execution_count": null,
      "outputs": []
    },
    {
      "cell_type": "code",
      "execution_count": null,
      "metadata": {
        "colab": {
          "base_uri": "https://localhost:8080/"
        },
        "id": "8r1gNmi7fj2L",
        "outputId": "ff133a85-3d48-416e-941b-adb3b02e226c"
      },
      "outputs": [
        {
          "output_type": "stream",
          "name": "stdout",
          "text": [
            "Collecting spotipy\n",
            "  Downloading spotipy-2.19.0-py3-none-any.whl (27 kB)\n",
            "Requirement already satisfied: six>=1.15.0 in /usr/local/lib/python3.7/dist-packages (from spotipy) (1.15.0)\n",
            "Collecting requests>=2.25.0\n",
            "  Downloading requests-2.27.1-py2.py3-none-any.whl (63 kB)\n",
            "\u001b[K     |████████████████████████████████| 63 kB 1.7 MB/s \n",
            "\u001b[?25hCollecting urllib3>=1.26.0\n",
            "  Downloading urllib3-1.26.9-py2.py3-none-any.whl (138 kB)\n",
            "\u001b[K     |████████████████████████████████| 138 kB 30.6 MB/s \n",
            "\u001b[?25hRequirement already satisfied: idna<4,>=2.5 in /usr/local/lib/python3.7/dist-packages (from requests>=2.25.0->spotipy) (2.10)\n",
            "Requirement already satisfied: charset-normalizer~=2.0.0 in /usr/local/lib/python3.7/dist-packages (from requests>=2.25.0->spotipy) (2.0.12)\n",
            "Requirement already satisfied: certifi>=2017.4.17 in /usr/local/lib/python3.7/dist-packages (from requests>=2.25.0->spotipy) (2021.10.8)\n",
            "Installing collected packages: urllib3, requests, spotipy\n",
            "  Attempting uninstall: urllib3\n",
            "    Found existing installation: urllib3 1.24.3\n",
            "    Uninstalling urllib3-1.24.3:\n",
            "      Successfully uninstalled urllib3-1.24.3\n",
            "  Attempting uninstall: requests\n",
            "    Found existing installation: requests 2.23.0\n",
            "    Uninstalling requests-2.23.0:\n",
            "      Successfully uninstalled requests-2.23.0\n",
            "\u001b[31mERROR: pip's dependency resolver does not currently take into account all the packages that are installed. This behaviour is the source of the following dependency conflicts.\n",
            "google-colab 1.0.0 requires requests~=2.23.0, but you have requests 2.27.1 which is incompatible.\n",
            "datascience 0.10.6 requires folium==0.2.1, but you have folium 0.8.3 which is incompatible.\u001b[0m\n",
            "Successfully installed requests-2.27.1 spotipy-2.19.0 urllib3-1.26.9\n"
          ]
        }
      ],
      "source": [
        "pip install spotipy"
      ]
    },
    {
      "cell_type": "code",
      "execution_count": null,
      "metadata": {
        "id": "UP8fs_jN5Tnp"
      },
      "outputs": [],
      "source": [
        "import spotipy\n",
        "from spotipy.oauth2 import SpotifyClientCredentials\n",
        "import pandas as pd\n",
        "import time "
      ]
    },
    {
      "cell_type": "code",
      "source": [
        "# Connect to the spotify API"
      ],
      "metadata": {
        "id": "I-2vL12nuyUg"
      },
      "execution_count": null,
      "outputs": []
    },
    {
      "cell_type": "code",
      "execution_count": null,
      "metadata": {
        "id": "BAjPdMOskNFY"
      },
      "outputs": [],
      "source": [
        "cid = 'XXXXXXXXXXXXXX'\n",
        "secret = 'XXXXXXXXXXXXXXXX'   # ids hidden"
      ]
    },
    {
      "cell_type": "code",
      "execution_count": null,
      "metadata": {
        "id": "O-N_VlAGkWv1"
      },
      "outputs": [],
      "source": [
        "client_credentials_manager = SpotifyClientCredentials(client_id=cid, client_secret=secret)\n",
        "\n",
        "sp = spotipy.Spotify(client_credentials_manager = client_credentials_manager)"
      ]
    },
    {
      "cell_type": "code",
      "source": [
        "# Examples of basic search queries we can make and how to navigate the JSON data. "
      ],
      "metadata": {
        "id": "VEYtyee0u4-a"
      },
      "execution_count": null,
      "outputs": []
    },
    {
      "cell_type": "code",
      "source": [
        "# 50 songs from pop genre\n",
        "track_results_Pop = sp.search(q=\"genre: Pop\", type='track', limit=50)\n",
        "# see name of artist of first song from pop songs query\n",
        "track_results_Pop['tracks']['items'][0]['album']['artists'][0]['name']"
      ],
      "metadata": {
        "colab": {
          "base_uri": "https://localhost:8080/",
          "height": 36
        },
        "id": "kVjdqXKz701k",
        "outputId": "63b65aab-e7ba-4461-cf81-6544c8c60411"
      },
      "execution_count": null,
      "outputs": [
        {
          "output_type": "execute_result",
          "data": {
            "text/plain": [
              "'Doja Cat'"
            ],
            "application/vnd.google.colaboratory.intrinsic+json": {
              "type": "string"
            }
          },
          "metadata": {},
          "execution_count": 158
        }
      ]
    },
    {
      "cell_type": "code",
      "source": [
        "# 50 artists from pop genre\n",
        "artist_results_Pop = sp.search(q=\"genre: Pop\", type='artist', limit=50)\n",
        "# see all information about second artist in JSON data. \n",
        "artist_results_Pop['artists']['items'][1]"
      ],
      "metadata": {
        "colab": {
          "base_uri": "https://localhost:8080/"
        },
        "id": "-spT7AX-9jPb",
        "outputId": "eef78144-eca5-42f6-ac3d-fd388f2f269a"
      },
      "execution_count": null,
      "outputs": [
        {
          "output_type": "execute_result",
          "data": {
            "text/plain": [
              "{'external_urls': {'spotify': 'https://open.spotify.com/artist/06HL4z0CvFAxyc27GXpf02'},\n",
              " 'followers': {'href': None, 'total': 50993882},\n",
              " 'genres': ['pop'],\n",
              " 'href': 'https://api.spotify.com/v1/artists/06HL4z0CvFAxyc27GXpf02',\n",
              " 'id': '06HL4z0CvFAxyc27GXpf02',\n",
              " 'images': [{'height': 640,\n",
              "   'url': 'https://i.scdn.co/image/ab6761610000e5eb9e3acf1eaf3b8846e836f441',\n",
              "   'width': 640},\n",
              "  {'height': 320,\n",
              "   'url': 'https://i.scdn.co/image/ab676161000051749e3acf1eaf3b8846e836f441',\n",
              "   'width': 320},\n",
              "  {'height': 160,\n",
              "   'url': 'https://i.scdn.co/image/ab6761610000f1789e3acf1eaf3b8846e836f441',\n",
              "   'width': 160}],\n",
              " 'name': 'Taylor Swift',\n",
              " 'popularity': 98,\n",
              " 'type': 'artist',\n",
              " 'uri': 'spotify:artist:06HL4z0CvFAxyc27GXpf02'}"
            ]
          },
          "metadata": {},
          "execution_count": 131
        }
      ]
    },
    {
      "cell_type": "code",
      "source": [
        "# albums of Kanye west with limit of 50 albums\n",
        "albums_kanywest = sp.search(q = 'artist: Kanye West', type = 'album', limit = 50)\n",
        "# information about album number 5\n",
        "albums_kanywest['albums']['items'][4]"
      ],
      "metadata": {
        "colab": {
          "base_uri": "https://localhost:8080/"
        },
        "id": "5TeXg0wP-3Ub",
        "outputId": "11b60fe4-c2c4-4c83-8b61-f4dd1c111046"
      },
      "execution_count": null,
      "outputs": [
        {
          "output_type": "execute_result",
          "data": {
            "text/plain": [
              "{'album_type': 'album',\n",
              " 'artists': [{'external_urls': {'spotify': 'https://open.spotify.com/artist/5K4W6rqBFWDnAN6FQUkS6x'},\n",
              "   'href': 'https://api.spotify.com/v1/artists/5K4W6rqBFWDnAN6FQUkS6x',\n",
              "   'id': '5K4W6rqBFWDnAN6FQUkS6x',\n",
              "   'name': 'Kanye West',\n",
              "   'type': 'artist',\n",
              "   'uri': 'spotify:artist:5K4W6rqBFWDnAN6FQUkS6x'}],\n",
              " 'available_markets': ['AD',\n",
              "  'AE',\n",
              "  'AG',\n",
              "  'AL',\n",
              "  'AM',\n",
              "  'AO',\n",
              "  'AR',\n",
              "  'AT',\n",
              "  'AU',\n",
              "  'AZ',\n",
              "  'BA',\n",
              "  'BB',\n",
              "  'BD',\n",
              "  'BE',\n",
              "  'BF',\n",
              "  'BG',\n",
              "  'BH',\n",
              "  'BI',\n",
              "  'BJ',\n",
              "  'BN',\n",
              "  'BO',\n",
              "  'BR',\n",
              "  'BS',\n",
              "  'BT',\n",
              "  'BW',\n",
              "  'BY',\n",
              "  'BZ',\n",
              "  'CA',\n",
              "  'CD',\n",
              "  'CG',\n",
              "  'CH',\n",
              "  'CI',\n",
              "  'CL',\n",
              "  'CM',\n",
              "  'CO',\n",
              "  'CR',\n",
              "  'CV',\n",
              "  'CW',\n",
              "  'CY',\n",
              "  'CZ',\n",
              "  'DE',\n",
              "  'DJ',\n",
              "  'DK',\n",
              "  'DM',\n",
              "  'DO',\n",
              "  'DZ',\n",
              "  'EC',\n",
              "  'EE',\n",
              "  'EG',\n",
              "  'ES',\n",
              "  'FI',\n",
              "  'FJ',\n",
              "  'FM',\n",
              "  'FR',\n",
              "  'GA',\n",
              "  'GB',\n",
              "  'GD',\n",
              "  'GE',\n",
              "  'GH',\n",
              "  'GM',\n",
              "  'GN',\n",
              "  'GQ',\n",
              "  'GR',\n",
              "  'GT',\n",
              "  'GW',\n",
              "  'GY',\n",
              "  'HK',\n",
              "  'HN',\n",
              "  'HR',\n",
              "  'HT',\n",
              "  'HU',\n",
              "  'ID',\n",
              "  'IE',\n",
              "  'IL',\n",
              "  'IN',\n",
              "  'IQ',\n",
              "  'IS',\n",
              "  'IT',\n",
              "  'JM',\n",
              "  'JO',\n",
              "  'JP',\n",
              "  'KE',\n",
              "  'KG',\n",
              "  'KH',\n",
              "  'KI',\n",
              "  'KM',\n",
              "  'KN',\n",
              "  'KR',\n",
              "  'KW',\n",
              "  'KZ',\n",
              "  'LA',\n",
              "  'LB',\n",
              "  'LC',\n",
              "  'LI',\n",
              "  'LK',\n",
              "  'LR',\n",
              "  'LS',\n",
              "  'LT',\n",
              "  'LU',\n",
              "  'LV',\n",
              "  'LY',\n",
              "  'MA',\n",
              "  'MC',\n",
              "  'MD',\n",
              "  'ME',\n",
              "  'MG',\n",
              "  'MH',\n",
              "  'MK',\n",
              "  'ML',\n",
              "  'MN',\n",
              "  'MO',\n",
              "  'MR',\n",
              "  'MT',\n",
              "  'MU',\n",
              "  'MV',\n",
              "  'MW',\n",
              "  'MX',\n",
              "  'MY',\n",
              "  'MZ',\n",
              "  'NA',\n",
              "  'NE',\n",
              "  'NG',\n",
              "  'NI',\n",
              "  'NL',\n",
              "  'NO',\n",
              "  'NP',\n",
              "  'NR',\n",
              "  'NZ',\n",
              "  'OM',\n",
              "  'PA',\n",
              "  'PE',\n",
              "  'PG',\n",
              "  'PH',\n",
              "  'PK',\n",
              "  'PL',\n",
              "  'PS',\n",
              "  'PT',\n",
              "  'PW',\n",
              "  'PY',\n",
              "  'QA',\n",
              "  'RO',\n",
              "  'RS',\n",
              "  'RU',\n",
              "  'RW',\n",
              "  'SA',\n",
              "  'SB',\n",
              "  'SC',\n",
              "  'SE',\n",
              "  'SG',\n",
              "  'SI',\n",
              "  'SK',\n",
              "  'SL',\n",
              "  'SM',\n",
              "  'SN',\n",
              "  'SR',\n",
              "  'ST',\n",
              "  'SV',\n",
              "  'SZ',\n",
              "  'TD',\n",
              "  'TG',\n",
              "  'TH',\n",
              "  'TJ',\n",
              "  'TL',\n",
              "  'TN',\n",
              "  'TO',\n",
              "  'TR',\n",
              "  'TT',\n",
              "  'TV',\n",
              "  'TW',\n",
              "  'TZ',\n",
              "  'UA',\n",
              "  'UG',\n",
              "  'US',\n",
              "  'UY',\n",
              "  'UZ',\n",
              "  'VC',\n",
              "  'VE',\n",
              "  'VN',\n",
              "  'VU',\n",
              "  'WS',\n",
              "  'XK',\n",
              "  'ZA',\n",
              "  'ZM',\n",
              "  'ZW'],\n",
              " 'external_urls': {'spotify': 'https://open.spotify.com/album/20r762YmB5HeofjMCiPMLv'},\n",
              " 'href': 'https://api.spotify.com/v1/albums/20r762YmB5HeofjMCiPMLv',\n",
              " 'id': '20r762YmB5HeofjMCiPMLv',\n",
              " 'images': [{'height': 640,\n",
              "   'url': 'https://i.scdn.co/image/ab67616d0000b273d9194aa18fa4c9362b47464f',\n",
              "   'width': 640},\n",
              "  {'height': 300,\n",
              "   'url': 'https://i.scdn.co/image/ab67616d00001e02d9194aa18fa4c9362b47464f',\n",
              "   'width': 300},\n",
              "  {'height': 64,\n",
              "   'url': 'https://i.scdn.co/image/ab67616d00004851d9194aa18fa4c9362b47464f',\n",
              "   'width': 64}],\n",
              " 'name': 'My Beautiful Dark Twisted Fantasy',\n",
              " 'release_date': '2010-11-22',\n",
              " 'release_date_precision': 'day',\n",
              " 'total_tracks': 13,\n",
              " 'type': 'album',\n",
              " 'uri': 'spotify:album:20r762YmB5HeofjMCiPMLv'}"
            ]
          },
          "metadata": {},
          "execution_count": 139
        }
      ]
    },
    {
      "cell_type": "code",
      "source": [
        "# albums from 1991 with limit of 50 albums\n",
        "albums_results_1991 = sp.search(q=\"year: 1991\", type='album', limit=50)\n",
        "# info about 5th album\n",
        "albums_results_1991['albums']['items'][4]"
      ],
      "metadata": {
        "colab": {
          "base_uri": "https://localhost:8080/"
        },
        "id": "tKAgUh4h-SPJ",
        "outputId": "2982f2ba-005a-4951-99d5-29ba07068111"
      },
      "execution_count": null,
      "outputs": [
        {
          "output_type": "execute_result",
          "data": {
            "text/plain": [
              "{'album_type': 'album',\n",
              " 'artists': [{'external_urls': {'spotify': 'https://open.spotify.com/artist/0L8ExT028jH3ddEcZwqJJ5'},\n",
              "   'href': 'https://api.spotify.com/v1/artists/0L8ExT028jH3ddEcZwqJJ5',\n",
              "   'id': '0L8ExT028jH3ddEcZwqJJ5',\n",
              "   'name': 'Red Hot Chili Peppers',\n",
              "   'type': 'artist',\n",
              "   'uri': 'spotify:artist:0L8ExT028jH3ddEcZwqJJ5'}],\n",
              " 'available_markets': ['AD',\n",
              "  'AE',\n",
              "  'AG',\n",
              "  'AL',\n",
              "  'AM',\n",
              "  'AO',\n",
              "  'AR',\n",
              "  'AT',\n",
              "  'AU',\n",
              "  'AZ',\n",
              "  'BA',\n",
              "  'BB',\n",
              "  'BD',\n",
              "  'BE',\n",
              "  'BF',\n",
              "  'BG',\n",
              "  'BH',\n",
              "  'BI',\n",
              "  'BJ',\n",
              "  'BN',\n",
              "  'BO',\n",
              "  'BR',\n",
              "  'BS',\n",
              "  'BW',\n",
              "  'BY',\n",
              "  'BZ',\n",
              "  'CA',\n",
              "  'CD',\n",
              "  'CG',\n",
              "  'CH',\n",
              "  'CI',\n",
              "  'CL',\n",
              "  'CM',\n",
              "  'CO',\n",
              "  'CR',\n",
              "  'CV',\n",
              "  'CW',\n",
              "  'CY',\n",
              "  'CZ',\n",
              "  'DE',\n",
              "  'DJ',\n",
              "  'DK',\n",
              "  'DM',\n",
              "  'DO',\n",
              "  'DZ',\n",
              "  'EC',\n",
              "  'EE',\n",
              "  'EG',\n",
              "  'ES',\n",
              "  'FI',\n",
              "  'FJ',\n",
              "  'FM',\n",
              "  'FR',\n",
              "  'GA',\n",
              "  'GB',\n",
              "  'GD',\n",
              "  'GH',\n",
              "  'GM',\n",
              "  'GN',\n",
              "  'GQ',\n",
              "  'GR',\n",
              "  'GT',\n",
              "  'GW',\n",
              "  'HK',\n",
              "  'HN',\n",
              "  'HR',\n",
              "  'HT',\n",
              "  'HU',\n",
              "  'ID',\n",
              "  'IE',\n",
              "  'IL',\n",
              "  'IN',\n",
              "  'IQ',\n",
              "  'IS',\n",
              "  'IT',\n",
              "  'JM',\n",
              "  'JO',\n",
              "  'JP',\n",
              "  'KE',\n",
              "  'KG',\n",
              "  'KH',\n",
              "  'KM',\n",
              "  'KN',\n",
              "  'KR',\n",
              "  'KW',\n",
              "  'KZ',\n",
              "  'LA',\n",
              "  'LB',\n",
              "  'LC',\n",
              "  'LI',\n",
              "  'LK',\n",
              "  'LR',\n",
              "  'LS',\n",
              "  'LT',\n",
              "  'LU',\n",
              "  'LV',\n",
              "  'LY',\n",
              "  'MA',\n",
              "  'MC',\n",
              "  'MD',\n",
              "  'ME',\n",
              "  'MG',\n",
              "  'MK',\n",
              "  'ML',\n",
              "  'MN',\n",
              "  'MO',\n",
              "  'MR',\n",
              "  'MT',\n",
              "  'MU',\n",
              "  'MV',\n",
              "  'MW',\n",
              "  'MX',\n",
              "  'MY',\n",
              "  'MZ',\n",
              "  'NA',\n",
              "  'NE',\n",
              "  'NG',\n",
              "  'NI',\n",
              "  'NL',\n",
              "  'NO',\n",
              "  'NP',\n",
              "  'NZ',\n",
              "  'OM',\n",
              "  'PA',\n",
              "  'PE',\n",
              "  'PG',\n",
              "  'PH',\n",
              "  'PK',\n",
              "  'PL',\n",
              "  'PS',\n",
              "  'PT',\n",
              "  'PY',\n",
              "  'QA',\n",
              "  'RO',\n",
              "  'RS',\n",
              "  'RU',\n",
              "  'RW',\n",
              "  'SA',\n",
              "  'SC',\n",
              "  'SE',\n",
              "  'SG',\n",
              "  'SI',\n",
              "  'SK',\n",
              "  'SL',\n",
              "  'SM',\n",
              "  'SN',\n",
              "  'ST',\n",
              "  'SV',\n",
              "  'SZ',\n",
              "  'TD',\n",
              "  'TG',\n",
              "  'TH',\n",
              "  'TJ',\n",
              "  'TL',\n",
              "  'TN',\n",
              "  'TR',\n",
              "  'TT',\n",
              "  'TW',\n",
              "  'TZ',\n",
              "  'UA',\n",
              "  'UG',\n",
              "  'US',\n",
              "  'UY',\n",
              "  'UZ',\n",
              "  'VC',\n",
              "  'VE',\n",
              "  'VN',\n",
              "  'XK',\n",
              "  'ZA',\n",
              "  'ZM',\n",
              "  'ZW'],\n",
              " 'external_urls': {'spotify': 'https://open.spotify.com/album/30Perjew8HyGkdSmqguYyg'},\n",
              " 'href': 'https://api.spotify.com/v1/albums/30Perjew8HyGkdSmqguYyg',\n",
              " 'id': '30Perjew8HyGkdSmqguYyg',\n",
              " 'images': [{'height': 640,\n",
              "   'url': 'https://i.scdn.co/image/ab67616d0000b273153d79816d853f2694b2cc70',\n",
              "   'width': 640},\n",
              "  {'height': 300,\n",
              "   'url': 'https://i.scdn.co/image/ab67616d00001e02153d79816d853f2694b2cc70',\n",
              "   'width': 300},\n",
              "  {'height': 64,\n",
              "   'url': 'https://i.scdn.co/image/ab67616d00004851153d79816d853f2694b2cc70',\n",
              "   'width': 64}],\n",
              " 'name': 'Blood Sugar Sex Magik (Deluxe Edition)',\n",
              " 'release_date': '1991-09-24',\n",
              " 'release_date_precision': 'day',\n",
              " 'total_tracks': 19,\n",
              " 'type': 'album',\n",
              " 'uri': 'spotify:album:30Perjew8HyGkdSmqguYyg'}"
            ]
          },
          "metadata": {},
          "execution_count": 136
        }
      ]
    },
    {
      "cell_type": "code",
      "source": [
        "# code wrapped into a function to download close to 1000 songs from a choosen genre, with the \n",
        "# artist name, track name, track id, popularity, release date, and song duration being saved to a data frame."
      ],
      "metadata": {
        "id": "QOf9zDnUvL6G"
      },
      "execution_count": null,
      "outputs": []
    },
    {
      "cell_type": "code",
      "source": [
        "def genre_data(genre = 'cumbia peruana'):\n",
        "  artist_name = []\n",
        "  track_name = []\n",
        "  popularity = []\n",
        "  track_id = []\n",
        "  released = []\n",
        "  duration = []\n",
        "  \n",
        "\n",
        "\n",
        "  for i in range(0,1000, 50):\n",
        "      track_results = sp.search(q=\"genre:\" + genre, type='track', limit=50, offset=i)\n",
        "      for i, t in enumerate(track_results['tracks']['items']):\n",
        "          artist_name.append(t['artists'][0]['name'])\n",
        "          track_name.append(t['name'])\n",
        "          track_id.append(t['id'])\n",
        "          popularity.append(t['popularity'])\n",
        "          released.append(t['album']['release_date'])\n",
        "          duration.append(t['duration_ms'])\n",
        "\n",
        "  songs = {}\n",
        "\n",
        "  songs['artist'] = artist_name\n",
        "  songs['track_name'] = track_name\n",
        "  songs['track_id'] = track_id\n",
        "  songs['popularity'] = popularity\n",
        "  songs['release_date'] = released\n",
        "  songs['song_duration'] = duration\n",
        "  songs['genre'] = genre\n",
        "\n",
        "  songs = pd.DataFrame(songs)\n",
        "  return songs"
      ],
      "metadata": {
        "id": "0OH4ow0-7hJq"
      },
      "execution_count": null,
      "outputs": []
    },
    {
      "cell_type": "code",
      "source": [
        "# run the function 4 times for different genres with the four data frames concated into one final data frame. "
      ],
      "metadata": {
        "id": "LDXONJ4TvaQ-"
      },
      "execution_count": null,
      "outputs": []
    },
    {
      "cell_type": "code",
      "source": [
        "cumbia_peruana = genre_data()"
      ],
      "metadata": {
        "id": "cud3rdNS7sB0"
      },
      "execution_count": null,
      "outputs": []
    },
    {
      "cell_type": "code",
      "source": [
        "hip_hop_latino = genre_data(genre = 'hip hop latino')"
      ],
      "metadata": {
        "id": "hBhaLc3R7sB3"
      },
      "execution_count": null,
      "outputs": []
    },
    {
      "cell_type": "code",
      "source": [
        "trap_latino = genre_data(genre = 'trap latino')"
      ],
      "metadata": {
        "id": "lxYk8UCT7sB4"
      },
      "execution_count": null,
      "outputs": []
    },
    {
      "cell_type": "code",
      "source": [
        "disco = genre_data(genre = 'disco')"
      ],
      "metadata": {
        "id": "NQp0v7STR_ml"
      },
      "execution_count": null,
      "outputs": []
    },
    {
      "cell_type": "code",
      "source": [
        "df = pd.concat([cumbia_peruana, hip_hop_latino, trap_latino, disco], axis = 0).reset_index().drop(['index'], axis =1)\n",
        "df.head()"
      ],
      "metadata": {
        "colab": {
          "base_uri": "https://localhost:8080/",
          "height": 206
        },
        "outputId": "90bb9e53-9861-4a92-be04-115763387d7c",
        "id": "6KBw9tAB7sB5"
      },
      "execution_count": null,
      "outputs": [
        {
          "output_type": "execute_result",
          "data": {
            "text/plain": [
              "                               artist                        track_name  \\\n",
              "0  Pepe Gomez Jr. y su Grupo Union 82  Triste Despedida - Danza Peruana   \n",
              "1                   Los Hijos del sol                          Cariñito   \n",
              "2                   Los Hijos del sol                     Si Me Quieres   \n",
              "3     Orquesta Caribeños de Guadalupe              Mil Amores (En Vivo)   \n",
              "4     Orquesta Caribeños de Guadalupe                  Punto de Partida   \n",
              "\n",
              "                 track_id  popularity release_date  song_duration  \\\n",
              "0  3lzJH550asBZSXxKY4RjhG          44   2018-03-16         173280   \n",
              "1  2jQj5bsJeOad1YoaPWjJHm          54   2017-02-17         245031   \n",
              "2  6Bx4bfum3dd8FAEiLVntzP          41   2017-02-17         189616   \n",
              "3  0ukaDNxciqACYH24WnBIMG          51   2020-03-06         285080   \n",
              "4  1A7AIIijXnMtWq8Ed5JCzQ          45   2020-03-06         252802   \n",
              "\n",
              "            genre  \n",
              "0  cumbia peruana  \n",
              "1  cumbia peruana  \n",
              "2  cumbia peruana  \n",
              "3  cumbia peruana  \n",
              "4  cumbia peruana  "
            ],
            "text/html": [
              "\n",
              "  <div id=\"df-4ab79c48-f257-4401-ae83-dc9fda2d6ee1\">\n",
              "    <div class=\"colab-df-container\">\n",
              "      <div>\n",
              "<style scoped>\n",
              "    .dataframe tbody tr th:only-of-type {\n",
              "        vertical-align: middle;\n",
              "    }\n",
              "\n",
              "    .dataframe tbody tr th {\n",
              "        vertical-align: top;\n",
              "    }\n",
              "\n",
              "    .dataframe thead th {\n",
              "        text-align: right;\n",
              "    }\n",
              "</style>\n",
              "<table border=\"1\" class=\"dataframe\">\n",
              "  <thead>\n",
              "    <tr style=\"text-align: right;\">\n",
              "      <th></th>\n",
              "      <th>artist</th>\n",
              "      <th>track_name</th>\n",
              "      <th>track_id</th>\n",
              "      <th>popularity</th>\n",
              "      <th>release_date</th>\n",
              "      <th>song_duration</th>\n",
              "      <th>genre</th>\n",
              "    </tr>\n",
              "  </thead>\n",
              "  <tbody>\n",
              "    <tr>\n",
              "      <th>0</th>\n",
              "      <td>Pepe Gomez Jr. y su Grupo Union 82</td>\n",
              "      <td>Triste Despedida - Danza Peruana</td>\n",
              "      <td>3lzJH550asBZSXxKY4RjhG</td>\n",
              "      <td>44</td>\n",
              "      <td>2018-03-16</td>\n",
              "      <td>173280</td>\n",
              "      <td>cumbia peruana</td>\n",
              "    </tr>\n",
              "    <tr>\n",
              "      <th>1</th>\n",
              "      <td>Los Hijos del sol</td>\n",
              "      <td>Cariñito</td>\n",
              "      <td>2jQj5bsJeOad1YoaPWjJHm</td>\n",
              "      <td>54</td>\n",
              "      <td>2017-02-17</td>\n",
              "      <td>245031</td>\n",
              "      <td>cumbia peruana</td>\n",
              "    </tr>\n",
              "    <tr>\n",
              "      <th>2</th>\n",
              "      <td>Los Hijos del sol</td>\n",
              "      <td>Si Me Quieres</td>\n",
              "      <td>6Bx4bfum3dd8FAEiLVntzP</td>\n",
              "      <td>41</td>\n",
              "      <td>2017-02-17</td>\n",
              "      <td>189616</td>\n",
              "      <td>cumbia peruana</td>\n",
              "    </tr>\n",
              "    <tr>\n",
              "      <th>3</th>\n",
              "      <td>Orquesta Caribeños de Guadalupe</td>\n",
              "      <td>Mil Amores (En Vivo)</td>\n",
              "      <td>0ukaDNxciqACYH24WnBIMG</td>\n",
              "      <td>51</td>\n",
              "      <td>2020-03-06</td>\n",
              "      <td>285080</td>\n",
              "      <td>cumbia peruana</td>\n",
              "    </tr>\n",
              "    <tr>\n",
              "      <th>4</th>\n",
              "      <td>Orquesta Caribeños de Guadalupe</td>\n",
              "      <td>Punto de Partida</td>\n",
              "      <td>1A7AIIijXnMtWq8Ed5JCzQ</td>\n",
              "      <td>45</td>\n",
              "      <td>2020-03-06</td>\n",
              "      <td>252802</td>\n",
              "      <td>cumbia peruana</td>\n",
              "    </tr>\n",
              "  </tbody>\n",
              "</table>\n",
              "</div>\n",
              "      <button class=\"colab-df-convert\" onclick=\"convertToInteractive('df-4ab79c48-f257-4401-ae83-dc9fda2d6ee1')\"\n",
              "              title=\"Convert this dataframe to an interactive table.\"\n",
              "              style=\"display:none;\">\n",
              "        \n",
              "  <svg xmlns=\"http://www.w3.org/2000/svg\" height=\"24px\"viewBox=\"0 0 24 24\"\n",
              "       width=\"24px\">\n",
              "    <path d=\"M0 0h24v24H0V0z\" fill=\"none\"/>\n",
              "    <path d=\"M18.56 5.44l.94 2.06.94-2.06 2.06-.94-2.06-.94-.94-2.06-.94 2.06-2.06.94zm-11 1L8.5 8.5l.94-2.06 2.06-.94-2.06-.94L8.5 2.5l-.94 2.06-2.06.94zm10 10l.94 2.06.94-2.06 2.06-.94-2.06-.94-.94-2.06-.94 2.06-2.06.94z\"/><path d=\"M17.41 7.96l-1.37-1.37c-.4-.4-.92-.59-1.43-.59-.52 0-1.04.2-1.43.59L10.3 9.45l-7.72 7.72c-.78.78-.78 2.05 0 2.83L4 21.41c.39.39.9.59 1.41.59.51 0 1.02-.2 1.41-.59l7.78-7.78 2.81-2.81c.8-.78.8-2.07 0-2.86zM5.41 20L4 18.59l7.72-7.72 1.47 1.35L5.41 20z\"/>\n",
              "  </svg>\n",
              "      </button>\n",
              "      \n",
              "  <style>\n",
              "    .colab-df-container {\n",
              "      display:flex;\n",
              "      flex-wrap:wrap;\n",
              "      gap: 12px;\n",
              "    }\n",
              "\n",
              "    .colab-df-convert {\n",
              "      background-color: #E8F0FE;\n",
              "      border: none;\n",
              "      border-radius: 50%;\n",
              "      cursor: pointer;\n",
              "      display: none;\n",
              "      fill: #1967D2;\n",
              "      height: 32px;\n",
              "      padding: 0 0 0 0;\n",
              "      width: 32px;\n",
              "    }\n",
              "\n",
              "    .colab-df-convert:hover {\n",
              "      background-color: #E2EBFA;\n",
              "      box-shadow: 0px 1px 2px rgba(60, 64, 67, 0.3), 0px 1px 3px 1px rgba(60, 64, 67, 0.15);\n",
              "      fill: #174EA6;\n",
              "    }\n",
              "\n",
              "    [theme=dark] .colab-df-convert {\n",
              "      background-color: #3B4455;\n",
              "      fill: #D2E3FC;\n",
              "    }\n",
              "\n",
              "    [theme=dark] .colab-df-convert:hover {\n",
              "      background-color: #434B5C;\n",
              "      box-shadow: 0px 1px 3px 1px rgba(0, 0, 0, 0.15);\n",
              "      filter: drop-shadow(0px 1px 2px rgba(0, 0, 0, 0.3));\n",
              "      fill: #FFFFFF;\n",
              "    }\n",
              "  </style>\n",
              "\n",
              "      <script>\n",
              "        const buttonEl =\n",
              "          document.querySelector('#df-4ab79c48-f257-4401-ae83-dc9fda2d6ee1 button.colab-df-convert');\n",
              "        buttonEl.style.display =\n",
              "          google.colab.kernel.accessAllowed ? 'block' : 'none';\n",
              "\n",
              "        async function convertToInteractive(key) {\n",
              "          const element = document.querySelector('#df-4ab79c48-f257-4401-ae83-dc9fda2d6ee1');\n",
              "          const dataTable =\n",
              "            await google.colab.kernel.invokeFunction('convertToInteractive',\n",
              "                                                     [key], {});\n",
              "          if (!dataTable) return;\n",
              "\n",
              "          const docLinkHtml = 'Like what you see? Visit the ' +\n",
              "            '<a target=\"_blank\" href=https://colab.research.google.com/notebooks/data_table.ipynb>data table notebook</a>'\n",
              "            + ' to learn more about interactive tables.';\n",
              "          element.innerHTML = '';\n",
              "          dataTable['output_type'] = 'display_data';\n",
              "          await google.colab.output.renderOutput(dataTable, element);\n",
              "          const docLink = document.createElement('div');\n",
              "          docLink.innerHTML = docLinkHtml;\n",
              "          element.appendChild(docLink);\n",
              "        }\n",
              "      </script>\n",
              "    </div>\n",
              "  </div>\n",
              "  "
            ]
          },
          "metadata": {},
          "execution_count": 10
        }
      ]
    },
    {
      "cell_type": "code",
      "source": [
        "# Connecting to AWS RDS (database)"
      ],
      "metadata": {
        "id": "TPl2GgffvgSN"
      },
      "execution_count": null,
      "outputs": []
    },
    {
      "cell_type": "code",
      "source": [
        "# Packages"
      ],
      "metadata": {
        "id": "bBsEugSfvrVx"
      },
      "execution_count": null,
      "outputs": []
    },
    {
      "cell_type": "code",
      "source": [
        "pip install PyMySQL"
      ],
      "metadata": {
        "colab": {
          "base_uri": "https://localhost:8080/"
        },
        "id": "mduX8WzzK0aj",
        "outputId": "51c35e24-23ec-4058-cec5-d84d59a0974d"
      },
      "execution_count": null,
      "outputs": [
        {
          "output_type": "stream",
          "name": "stdout",
          "text": [
            "Collecting PyMySQL\n",
            "  Downloading PyMySQL-1.0.2-py3-none-any.whl (43 kB)\n",
            "\u001b[?25l\r\u001b[K     |███████▌                        | 10 kB 21.6 MB/s eta 0:00:01\r\u001b[K     |███████████████                 | 20 kB 27.7 MB/s eta 0:00:01\r\u001b[K     |██████████████████████▍         | 30 kB 29.9 MB/s eta 0:00:01\r\u001b[K     |██████████████████████████████  | 40 kB 17.3 MB/s eta 0:00:01\r\u001b[K     |████████████████████████████████| 43 kB 2.0 MB/s \n",
            "\u001b[?25hInstalling collected packages: PyMySQL\n",
            "Successfully installed PyMySQL-1.0.2\n"
          ]
        }
      ]
    },
    {
      "cell_type": "code",
      "source": [
        "import pymysql"
      ],
      "metadata": {
        "id": "o41DVY7PK0Wc"
      },
      "execution_count": null,
      "outputs": []
    },
    {
      "cell_type": "code",
      "source": [
        "import pymysql.cursors\n",
        "import MySQLdb\n",
        "pymysql.install_as_MySQLdb()"
      ],
      "metadata": {
        "id": "j39WcV2mOdrW"
      },
      "execution_count": null,
      "outputs": []
    },
    {
      "cell_type": "code",
      "source": [
        "# connect to database"
      ],
      "metadata": {
        "id": "wK2Uxejnvttp"
      },
      "execution_count": null,
      "outputs": []
    },
    {
      "cell_type": "code",
      "source": [
        "host = 'database-1.cm9lhnmahsmm.eu-west-2.rds.amazonaws.com'\n",
        "database = 'spotify' \n",
        "port = 3306\n",
        "user = 'admin'\n",
        "passw = 'XXXXXXXX'  # password hidden"
      ],
      "metadata": {
        "id": "dywI5jZawjfQ"
      },
      "execution_count": null,
      "outputs": []
    },
    {
      "cell_type": "code",
      "source": [
        "db = pymysql.connect(host= host,\n",
        "                             user=user,\n",
        "                             port = port,\n",
        "                             password=passw,\n",
        "                             database=database,\n",
        "                             cursorclass=pymysql.cursors.DictCursor)\n"
      ],
      "metadata": {
        "id": "iz6TotnFOgPC"
      },
      "execution_count": null,
      "outputs": []
    },
    {
      "cell_type": "code",
      "source": [
        "cursor = db.cursor()\n",
        "print(cursor)"
      ],
      "metadata": {
        "colab": {
          "base_uri": "https://localhost:8080/"
        },
        "id": "6l_gYnZzUul8",
        "outputId": "3d990f1b-f5ab-4fdb-bd8f-84b5d8d1ba5d"
      },
      "execution_count": null,
      "outputs": [
        {
          "output_type": "stream",
          "name": "stdout",
          "text": [
            "<pymysql.cursors.DictCursor object at 0x7fcdb46ee6d0>\n"
          ]
        }
      ]
    },
    {
      "cell_type": "code",
      "source": [
        "# Create table within database. "
      ],
      "metadata": {
        "id": "XtVJaVmyv0sq"
      },
      "execution_count": null,
      "outputs": []
    },
    {
      "cell_type": "code",
      "source": [
        "sql = \"\"\" CREATE TABLE spotify2 (\n",
        "  artist VARCHAR(30) NOT NULL,\n",
        "  track_name VARCHAR(30) NOT NULL,\n",
        "  track_id VARCHAR(30) PRIMARY KEY,\n",
        "  popularity INT(6) NOT NULL, \n",
        "  release_date TIMESTAMP NOT NULL,\n",
        "  song_duration INT(6) NOT NULL,\n",
        "  genre VARCHAR(30) NOT NULL)\"\"\"\n",
        "\n",
        "\n",
        "cursor.execute(sql)"
      ],
      "metadata": {
        "colab": {
          "base_uri": "https://localhost:8080/"
        },
        "id": "3NR-vUUobzPn",
        "outputId": "58da54e3-d78f-4396-dd70-14339aedd173"
      },
      "execution_count": null,
      "outputs": [
        {
          "output_type": "execute_result",
          "data": {
            "text/plain": [
              "0"
            ]
          },
          "metadata": {},
          "execution_count": 118
        }
      ]
    },
    {
      "cell_type": "code",
      "source": [
        "sql = \"\"\"select * from spotify2\"\"\"\n",
        "cursor.execute(sql)\n",
        "cursor.fetchall()"
      ],
      "metadata": {
        "colab": {
          "base_uri": "https://localhost:8080/"
        },
        "id": "LIPCEn8tZTGq",
        "outputId": "1d3e3a13-a925-44f3-a1c4-805708f6697a"
      },
      "execution_count": null,
      "outputs": [
        {
          "output_type": "execute_result",
          "data": {
            "text/plain": [
              "()"
            ]
          },
          "metadata": {},
          "execution_count": 95
        }
      ]
    },
    {
      "cell_type": "code",
      "source": [
        "# Create engine to push pandas spotify data frame to database table in AWS"
      ],
      "metadata": {
        "id": "O2Mr4G5ev43A"
      },
      "execution_count": null,
      "outputs": []
    },
    {
      "cell_type": "code",
      "source": [
        "# packages\n",
        "from sqlalchemy import create_engine"
      ],
      "metadata": {
        "id": "nwWP6x8BZS_s"
      },
      "execution_count": null,
      "outputs": []
    },
    {
      "cell_type": "code",
      "source": [
        "mydb = create_engine(\"mysql+pymysql://\" + user + \":\" + passw + \"@\" + host + \":\" + str(port) + \"/\" + database , echo=False).connect()"
      ],
      "metadata": {
        "id": "XUTh5klwauQY"
      },
      "execution_count": null,
      "outputs": []
    },
    {
      "cell_type": "code",
      "source": [
        "df.head()"
      ],
      "metadata": {
        "colab": {
          "base_uri": "https://localhost:8080/",
          "height": 206
        },
        "id": "RPA_-cyZa-xn",
        "outputId": "0062a98b-2b6b-4571-df25-1a4583d057ba"
      },
      "execution_count": null,
      "outputs": [
        {
          "output_type": "execute_result",
          "data": {
            "text/plain": [
              "                               artist                        track_name  \\\n",
              "0  Pepe Gomez Jr. y su Grupo Union 82  Triste Despedida - Danza Peruana   \n",
              "1                   Los Hijos del sol                          Cariñito   \n",
              "2                   Los Hijos del sol                     Si Me Quieres   \n",
              "3     Orquesta Caribeños de Guadalupe              Mil Amores (En Vivo)   \n",
              "4     Orquesta Caribeños de Guadalupe                  Punto de Partida   \n",
              "\n",
              "                 track_id  popularity release_date  song_duration  \\\n",
              "0  3lzJH550asBZSXxKY4RjhG          44   2018-03-16         173280   \n",
              "1  2jQj5bsJeOad1YoaPWjJHm          54   2017-02-17         245031   \n",
              "2  6Bx4bfum3dd8FAEiLVntzP          41   2017-02-17         189616   \n",
              "3  0ukaDNxciqACYH24WnBIMG          51   2020-03-06         285080   \n",
              "4  1A7AIIijXnMtWq8Ed5JCzQ          45   2020-03-06         252802   \n",
              "\n",
              "            genre  \n",
              "0  cumbia peruana  \n",
              "1  cumbia peruana  \n",
              "2  cumbia peruana  \n",
              "3  cumbia peruana  \n",
              "4  cumbia peruana  "
            ],
            "text/html": [
              "\n",
              "  <div id=\"df-533ab106-5f93-4b63-b65e-c476ba97cd15\">\n",
              "    <div class=\"colab-df-container\">\n",
              "      <div>\n",
              "<style scoped>\n",
              "    .dataframe tbody tr th:only-of-type {\n",
              "        vertical-align: middle;\n",
              "    }\n",
              "\n",
              "    .dataframe tbody tr th {\n",
              "        vertical-align: top;\n",
              "    }\n",
              "\n",
              "    .dataframe thead th {\n",
              "        text-align: right;\n",
              "    }\n",
              "</style>\n",
              "<table border=\"1\" class=\"dataframe\">\n",
              "  <thead>\n",
              "    <tr style=\"text-align: right;\">\n",
              "      <th></th>\n",
              "      <th>artist</th>\n",
              "      <th>track_name</th>\n",
              "      <th>track_id</th>\n",
              "      <th>popularity</th>\n",
              "      <th>release_date</th>\n",
              "      <th>song_duration</th>\n",
              "      <th>genre</th>\n",
              "    </tr>\n",
              "  </thead>\n",
              "  <tbody>\n",
              "    <tr>\n",
              "      <th>0</th>\n",
              "      <td>Pepe Gomez Jr. y su Grupo Union 82</td>\n",
              "      <td>Triste Despedida - Danza Peruana</td>\n",
              "      <td>3lzJH550asBZSXxKY4RjhG</td>\n",
              "      <td>44</td>\n",
              "      <td>2018-03-16</td>\n",
              "      <td>173280</td>\n",
              "      <td>cumbia peruana</td>\n",
              "    </tr>\n",
              "    <tr>\n",
              "      <th>1</th>\n",
              "      <td>Los Hijos del sol</td>\n",
              "      <td>Cariñito</td>\n",
              "      <td>2jQj5bsJeOad1YoaPWjJHm</td>\n",
              "      <td>54</td>\n",
              "      <td>2017-02-17</td>\n",
              "      <td>245031</td>\n",
              "      <td>cumbia peruana</td>\n",
              "    </tr>\n",
              "    <tr>\n",
              "      <th>2</th>\n",
              "      <td>Los Hijos del sol</td>\n",
              "      <td>Si Me Quieres</td>\n",
              "      <td>6Bx4bfum3dd8FAEiLVntzP</td>\n",
              "      <td>41</td>\n",
              "      <td>2017-02-17</td>\n",
              "      <td>189616</td>\n",
              "      <td>cumbia peruana</td>\n",
              "    </tr>\n",
              "    <tr>\n",
              "      <th>3</th>\n",
              "      <td>Orquesta Caribeños de Guadalupe</td>\n",
              "      <td>Mil Amores (En Vivo)</td>\n",
              "      <td>0ukaDNxciqACYH24WnBIMG</td>\n",
              "      <td>51</td>\n",
              "      <td>2020-03-06</td>\n",
              "      <td>285080</td>\n",
              "      <td>cumbia peruana</td>\n",
              "    </tr>\n",
              "    <tr>\n",
              "      <th>4</th>\n",
              "      <td>Orquesta Caribeños de Guadalupe</td>\n",
              "      <td>Punto de Partida</td>\n",
              "      <td>1A7AIIijXnMtWq8Ed5JCzQ</td>\n",
              "      <td>45</td>\n",
              "      <td>2020-03-06</td>\n",
              "      <td>252802</td>\n",
              "      <td>cumbia peruana</td>\n",
              "    </tr>\n",
              "  </tbody>\n",
              "</table>\n",
              "</div>\n",
              "      <button class=\"colab-df-convert\" onclick=\"convertToInteractive('df-533ab106-5f93-4b63-b65e-c476ba97cd15')\"\n",
              "              title=\"Convert this dataframe to an interactive table.\"\n",
              "              style=\"display:none;\">\n",
              "        \n",
              "  <svg xmlns=\"http://www.w3.org/2000/svg\" height=\"24px\"viewBox=\"0 0 24 24\"\n",
              "       width=\"24px\">\n",
              "    <path d=\"M0 0h24v24H0V0z\" fill=\"none\"/>\n",
              "    <path d=\"M18.56 5.44l.94 2.06.94-2.06 2.06-.94-2.06-.94-.94-2.06-.94 2.06-2.06.94zm-11 1L8.5 8.5l.94-2.06 2.06-.94-2.06-.94L8.5 2.5l-.94 2.06-2.06.94zm10 10l.94 2.06.94-2.06 2.06-.94-2.06-.94-.94-2.06-.94 2.06-2.06.94z\"/><path d=\"M17.41 7.96l-1.37-1.37c-.4-.4-.92-.59-1.43-.59-.52 0-1.04.2-1.43.59L10.3 9.45l-7.72 7.72c-.78.78-.78 2.05 0 2.83L4 21.41c.39.39.9.59 1.41.59.51 0 1.02-.2 1.41-.59l7.78-7.78 2.81-2.81c.8-.78.8-2.07 0-2.86zM5.41 20L4 18.59l7.72-7.72 1.47 1.35L5.41 20z\"/>\n",
              "  </svg>\n",
              "      </button>\n",
              "      \n",
              "  <style>\n",
              "    .colab-df-container {\n",
              "      display:flex;\n",
              "      flex-wrap:wrap;\n",
              "      gap: 12px;\n",
              "    }\n",
              "\n",
              "    .colab-df-convert {\n",
              "      background-color: #E8F0FE;\n",
              "      border: none;\n",
              "      border-radius: 50%;\n",
              "      cursor: pointer;\n",
              "      display: none;\n",
              "      fill: #1967D2;\n",
              "      height: 32px;\n",
              "      padding: 0 0 0 0;\n",
              "      width: 32px;\n",
              "    }\n",
              "\n",
              "    .colab-df-convert:hover {\n",
              "      background-color: #E2EBFA;\n",
              "      box-shadow: 0px 1px 2px rgba(60, 64, 67, 0.3), 0px 1px 3px 1px rgba(60, 64, 67, 0.15);\n",
              "      fill: #174EA6;\n",
              "    }\n",
              "\n",
              "    [theme=dark] .colab-df-convert {\n",
              "      background-color: #3B4455;\n",
              "      fill: #D2E3FC;\n",
              "    }\n",
              "\n",
              "    [theme=dark] .colab-df-convert:hover {\n",
              "      background-color: #434B5C;\n",
              "      box-shadow: 0px 1px 3px 1px rgba(0, 0, 0, 0.15);\n",
              "      filter: drop-shadow(0px 1px 2px rgba(0, 0, 0, 0.3));\n",
              "      fill: #FFFFFF;\n",
              "    }\n",
              "  </style>\n",
              "\n",
              "      <script>\n",
              "        const buttonEl =\n",
              "          document.querySelector('#df-533ab106-5f93-4b63-b65e-c476ba97cd15 button.colab-df-convert');\n",
              "        buttonEl.style.display =\n",
              "          google.colab.kernel.accessAllowed ? 'block' : 'none';\n",
              "\n",
              "        async function convertToInteractive(key) {\n",
              "          const element = document.querySelector('#df-533ab106-5f93-4b63-b65e-c476ba97cd15');\n",
              "          const dataTable =\n",
              "            await google.colab.kernel.invokeFunction('convertToInteractive',\n",
              "                                                     [key], {});\n",
              "          if (!dataTable) return;\n",
              "\n",
              "          const docLinkHtml = 'Like what you see? Visit the ' +\n",
              "            '<a target=\"_blank\" href=https://colab.research.google.com/notebooks/data_table.ipynb>data table notebook</a>'\n",
              "            + ' to learn more about interactive tables.';\n",
              "          element.innerHTML = '';\n",
              "          dataTable['output_type'] = 'display_data';\n",
              "          await google.colab.output.renderOutput(dataTable, element);\n",
              "          const docLink = document.createElement('div');\n",
              "          docLink.innerHTML = docLinkHtml;\n",
              "          element.appendChild(docLink);\n",
              "        }\n",
              "      </script>\n",
              "    </div>\n",
              "  </div>\n",
              "  "
            ]
          },
          "metadata": {},
          "execution_count": 98
        }
      ]
    },
    {
      "cell_type": "code",
      "source": [
        "# drop ducplicate rows from track_id column as it is the primary key"
      ],
      "metadata": {
        "id": "QBD_uaHQwDUV"
      },
      "execution_count": null,
      "outputs": []
    },
    {
      "cell_type": "code",
      "source": [
        "df = df.drop_duplicates('track_id', keep='last')"
      ],
      "metadata": {
        "id": "azUSt2Gxgngf"
      },
      "execution_count": null,
      "outputs": []
    },
    {
      "cell_type": "code",
      "source": [
        "# Push df to table in AWS database"
      ],
      "metadata": {
        "id": "2_S69YigwJRo"
      },
      "execution_count": null,
      "outputs": []
    },
    {
      "cell_type": "code",
      "source": [
        "df.to_sql('spotify2', con = mydb, if_exists = 'append', chunksize = 1000, index= False)"
      ],
      "metadata": {
        "id": "tOto8noNZSuv"
      },
      "execution_count": null,
      "outputs": []
    },
    {
      "cell_type": "code",
      "source": [
        "# Done - the spotify data is now in our AWS database. We can connect to this database again from a different location and the data will be there \n",
        "# ready to query. "
      ],
      "metadata": {
        "id": "fGZzvDxkfyzZ"
      },
      "execution_count": null,
      "outputs": []
    },
    {
      "cell_type": "code",
      "execution_count": null,
      "metadata": {
        "id": "zLCpz2kCkWeR"
      },
      "outputs": [],
      "source": [
        ""
      ]
    }
  ],
  "metadata": {
    "colab": {
      "name": "Song data from Spotify API, save to AWS database.ipynb",
      "provenance": [],
      "authorship_tag": "ABX9TyOH1isrTDg7mnOzdaQCkNtA",
      "include_colab_link": true
    },
    "kernelspec": {
      "display_name": "Python 3",
      "name": "python3"
    },
    "language_info": {
      "name": "python"
    }
  },
  "nbformat": 4,
  "nbformat_minor": 0
}